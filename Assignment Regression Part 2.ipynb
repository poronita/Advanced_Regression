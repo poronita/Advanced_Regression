{
 "cells": [
  {
   "cell_type": "code",
   "execution_count": null,
   "id": "a077b7ac",
   "metadata": {},
   "outputs": [],
   "source": [
    "# Question 1: Optimal alpha value and changes with doubled alpha\n",
    "# Assuming you have already found the optimal alpha using GridSearchCV in the script:\n",
    "\n",
    "optimal_alpha_ridge = ridge_gs.best_params_['ridge__alpha']\n",
    "optimal_alpha_lasso = lasso_gs.best_params_['lasso__alpha']\n",
    "\n",
    "# Double the alpha values\n",
    "double_alpha_ridge = 2 * optimal_alpha_ridge\n",
    "double_alpha_lasso = 2 * optimal_alpha_lasso\n",
    "\n",
    "# Retrain models with the new alphas\n",
    "ridge_double_alpha = Ridge(alpha=double_alpha_ridge).fit(X_train, y_train)\n",
    "lasso_double_alpha = Lasso(alpha=double_alpha_lasso).fit(X_train, y_train)\n",
    "\n",
    "# Evaluate the changes in coefficients\n",
    "ridge_coef_change = ridge_double_alpha.coef_ - ridge_best.named_steps['ridge'].coef_\n",
    "lasso_coef_change = lasso_double_alpha.coef_ - lasso_best.named_steps['lasso'].coef_\n",
    "\n",
    "# Identify the most important predictor variables after the change\n",
    "# For Ridge\n",
    "ridge_most_important = pd.Series(ridge_double_alpha.coef_, index=X_train.columns).abs().nlargest(5)\n",
    "# For Lasso\n",
    "lasso_most_important = pd.Series(lasso_double_alpha.coef_, index=X_train.columns).abs().nlargest(5)\n",
    "\n"
   ]
  },
  {
   "cell_type": "code",
   "execution_count": null,
   "id": "69f0d8fd",
   "metadata": {},
   "outputs": [],
   "source": [
    "# Print optimal alphas for Ridge and Lasso\n",
    "print(\"Optimal Alpha for Ridge:\", optimal_alpha_ridge)\n",
    "print(\"Optimal Alpha for Lasso:\", optimal_alpha_lasso)\n",
    "\n",
    "# Print changes in coefficients for doubled alpha\n",
    "print(\"\\nChanges in Ridge Coefficients with doubled alpha:\", ridge_coef_change)\n",
    "print(\"Changes in Lasso Coefficients with doubled alpha:\", lasso_coef_change)\n",
    "\n",
    "# Print the most important predictor variables after doubling alpha\n",
    "print(\"\\nMost Important Predictors in Ridge after doubling alpha:\", ridge_most_important)\n",
    "print(\"Most Important Predictors in Lasso after doubling alpha:\", lasso_most_important)\n"
   ]
  },
  {
   "cell_type": "code",
   "execution_count": null,
   "id": "ecccbfec",
   "metadata": {},
   "outputs": [],
   "source": [
    "# Question 2: Choosing between Ridge and Lasso\n",
    "# This would be a conceptual decision based on the model performance and the nature of the data. \n",
    "# You'd typically look at the cross-validated scores, the interpretability of the model, and the number of features you want to end up with.\n",
    "\n",
    "# Question 3: Important predictor variables after excluding top 5 from Lasso\n",
    "# Exclude the top 5 predictors from the data\n",
    "top_5_predictors_lasso = list(lasso_most_important.index)\n",
    "X_train_reduced = X_train.drop(columns=top_5_predictors_lasso)\n",
    "X_test_reduced = X_test.drop(columns=top_5_predictors_lasso)\n",
    "\n",
    "# Retrain the Lasso model on the reduced dataset\n",
    "lasso_reduced = Lasso(alpha=optimal_alpha_lasso).fit(X_train_reduced, y_train)\n",
    "\n",
    "# Find the new top 5 predictors\n",
    "new_top_5_lasso = pd.Series(lasso_reduced.coef_, index=X_train_reduced.columns).abs().nlargest(5)\n",
    "\n",
    "# Question 4: Ensuring robustness and generalizability\n",
    "# This question is more about the approach and practices rather than specific code. \n",
    "# Ensure cross-validation, proper data preprocessing, feature selection, outlier handling, and possibly use ensemble methods to improve robustness and generalizability.\n",
    "\n",
    "# Note: The actual implementation and results would depend on running this code with your specific data and Python environment.\n",
    "# Make sure to interpret the coefficients and model changes accordingly, considering the context and domain knowledge of the data you're working with.\n"
   ]
  },
  {
   "cell_type": "code",
   "execution_count": null,
   "id": "b96b425f",
   "metadata": {},
   "outputs": [],
   "source": [
    "from sklearn.metrics import mean_squared_error, r2_score, mean_absolute_error\n",
    "\n",
    "# Calculate and print RMSE for Ridge and Lasso\n",
    "ridge_test_pred = ridge_double_alpha.predict(X_test)\n",
    "lasso_test_pred = lasso_double_alpha.predict(X_test)\n",
    "\n",
    "print(\"Ridge Regression RMSE:\", np.sqrt(mean_squared_error(y_test, ridge_test_pred)))\n",
    "print(\"Lasso Regression RMSE:\", np.sqrt(mean_squared_error(y_test, lasso_test_pred)))\n",
    "\n",
    "# Calculate and print R² for Ridge and Lasso\n",
    "print(\"Ridge Regression R²:\", r2_score(y_test, ridge_test_pred))\n",
    "print(\"Lasso Regression R²:\", r2_score(y_test, lasso_test_pred))\n",
    "\n",
    "# Calculate and print MAE for Ridge and Lasso\n",
    "print(\"Ridge Regression MAE:\", mean_absolute_error(y_test, ridge_test_pred))\n",
    "print(\"Lasso Regression MAE:\", mean_absolute_error(y_test, lasso_test_pred))\n"
   ]
  },
  {
   "cell_type": "code",
   "execution_count": null,
   "id": "c07477c8",
   "metadata": {},
   "outputs": [],
   "source": [
    "# Boxplot for cross-validation scores\n",
    "plt.figure(figsize=(7, 5))\n",
    "sns.boxplot(data=[ridge_test_pred, lasso_test_pred])\n",
    "plt.xticks([0, 1], ['Ridge', 'Lasso'])\n",
    "plt.title('Cross-Validation Scores for Ridge and Lasso Regression')\n",
    "plt.ylabel('Scores')\n",
    "plt.show()"
   ]
  },
  {
   "cell_type": "code",
   "execution_count": null,
   "id": "0f7fdd66",
   "metadata": {},
   "outputs": [],
   "source": [
    "# Print the new top 5 predictors after excluding the initial top 5 from Lasso\n",
    "print(\"New Top 5 Important Predictor Variables after excluding the initial top 5 from Lasso:\", new_top_5_lasso)\n"
   ]
  },
  {
   "cell_type": "code",
   "execution_count": null,
   "id": "184c9054",
   "metadata": {},
   "outputs": [],
   "source": []
  }
 ],
 "metadata": {
  "kernelspec": {
   "display_name": "Python 3 (ipykernel)",
   "language": "python",
   "name": "python3"
  },
  "language_info": {
   "codemirror_mode": {
    "name": "ipython",
    "version": 3
   },
   "file_extension": ".py",
   "mimetype": "text/x-python",
   "name": "python",
   "nbconvert_exporter": "python",
   "pygments_lexer": "ipython3",
   "version": "3.9.18"
  }
 },
 "nbformat": 4,
 "nbformat_minor": 5
}
